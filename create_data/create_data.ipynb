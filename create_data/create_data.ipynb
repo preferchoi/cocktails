{
 "cells": [
  {
   "cell_type": "code",
   "execution_count": 3,
   "metadata": {},
   "outputs": [],
   "source": [
    "import numpy as np\n",
    "import pandas as pd"
   ]
  },
  {
   "cell_type": "code",
   "execution_count": 4,
   "metadata": {},
   "outputs": [],
   "source": [
    "df = pd.read_csv('./all_drinks.csv', index_col=0)\n",
    "df = df.sort_index(axis=1)"
   ]
  },
  {
   "cell_type": "code",
   "execution_count": 5,
   "metadata": {},
   "outputs": [],
   "source": [
    "# Ingredients\n",
    "ingredient_columns = [f'strIngredient{i}' for i in range(1, 16)]\n",
    "Ingredients = df[ingredient_columns]\n",
    "Ingredients= pd.melt(Ingredients)['value'].dropna().drop_duplicates().reset_index(drop=True)\n",
    "Ingredients = Ingredients.str.upper()\n",
    "\n",
    "# Glass\n",
    "Glass = df['strGlass']\n",
    "Glass = Glass.drop_duplicates().reset_index(drop=True)\n",
    "Glass = Glass.str.upper()\n",
    "\n",
    "# Category\n",
    "Category = df['strCategory']\n",
    "Category = Category.drop_duplicates().reset_index(drop=True)\n",
    "Category = Category.str.upper()"
   ]
  },
  {
   "cell_type": "code",
   "execution_count": 6,
   "metadata": {},
   "outputs": [],
   "source": [
    "data = {}\n",
    "\n",
    "category_data = []\n",
    "for k, v in Category.items():\n",
    "    category_data.append({'name':v})\n",
    "\n",
    "glass_data = []\n",
    "for k, v in Glass.items():\n",
    "    glass_data.append({'name':v})\n",
    "\n",
    "ingredients_data = []\n",
    "for k, v in Ingredients.items():\n",
    "    ingredients_data.append({'name':v})\n",
    "\n",
    "data['category_data'] = category_data\n",
    "data['glass_data'] = glass_data\n",
    "data['ingredients_data'] = ingredients_data"
   ]
  },
  {
   "cell_type": "code",
   "execution_count": 41,
   "metadata": {},
   "outputs": [],
   "source": [
    "# Drinks\n",
    "drinks = []\n",
    "\n",
    "df['strInstructions'] = df['strInstructions'].fillna('')\n",
    "df['strAlcoholic'] = df['strAlcoholic'].fillna('')\n",
    "for index, row in df.iterrows():\n",
    "    ingredient = row[[f'strIngredient{i}' for i in range(1, 16)]].replace(r'^\\s*$', np.nan, regex=True).dropna().tolist()\n",
    "    measure = row[[f'strMeasure{i}' for i in range(1, 16)]].replace(r'^\\s*$', np.nan, regex=True).dropna().tolist()\n",
    "    ingredients = []\n",
    "    for i in zip(ingredient, measure):\n",
    "        ingredients.append(list(i))\n",
    "    \n",
    "    tmp = {\n",
    "        'name': row['strDrink'],\n",
    "        'img_path': row['strDrinkThumb'],\n",
    "        'alcoholic': row['strAlcoholic'],\n",
    "        'ingredients':ingredients,\n",
    "        'instructions':row['strInstructions']\n",
    "        }\n",
    "    \n",
    "    drinks.append(tmp)\n",
    "    \n",
    "data['drinks'] = drinks"
   ]
  },
  {
   "cell_type": "code",
   "execution_count": 43,
   "metadata": {},
   "outputs": [],
   "source": [
    "import json\n",
    "\n",
    "with open('cocktailData.json', 'w') as file:\n",
    "    json.dump(data, file, indent=4)"
   ]
  },
  {
   "cell_type": "code",
   "execution_count": null,
   "metadata": {},
   "outputs": [],
   "source": []
  }
 ],
 "metadata": {
  "kernelspec": {
   "display_name": ".venv",
   "language": "python",
   "name": "python3"
  },
  "language_info": {
   "codemirror_mode": {
    "name": "ipython",
    "version": 3
   },
   "file_extension": ".py",
   "mimetype": "text/x-python",
   "name": "python",
   "nbconvert_exporter": "python",
   "pygments_lexer": "ipython3",
   "version": "3.8.6"
  }
 },
 "nbformat": 4,
 "nbformat_minor": 2
}
